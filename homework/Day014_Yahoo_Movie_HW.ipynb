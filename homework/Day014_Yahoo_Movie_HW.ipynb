{
 "cells": [
  {
   "cell_type": "markdown",
   "metadata": {},
   "source": [
    "# YAHOO電影爬蟲練習\n",
    "## 練習爬取電影放映資訊。必須逐步獲取電影的代號、放映地區、放映日期後，再送出查詢給伺服器。"
   ]
  },
  {
   "cell_type": "code",
   "execution_count": 11,
   "metadata": {},
   "outputs": [],
   "source": [
    "import requests\n",
    "import re\n",
    "from bs4 import BeautifulSoup"
   ]
  },
  {
   "cell_type": "markdown",
   "metadata": {},
   "source": [
    "### 先搜尋全部的電影代號(ID)資訊"
   ]
  },
  {
   "cell_type": "code",
   "execution_count": 12,
   "metadata": {
    "scrolled": true
   },
   "outputs": [
    {
     "name": "stdout",
     "output_type": "stream",
     "text": [
      "Movie: 特約經紀公司, ID: 10364\n",
      "Movie: 一屍到底番外篇：好萊塢大作戰！, ID: 10352\n",
      "Movie: 餓魔餐廳, ID: 10342\n",
      "Movie: 花生醬獵鷹的願望, ID: 10340\n",
      "Movie: 女孩要革命, ID: 10339\n",
      "Movie: 我的靈魂是愛做的, ID: 10336\n",
      "Movie: 絕世情歌, ID: 10328\n",
      "Movie: 人間失格：太宰治與他的3個女人, ID: 10287\n",
      "Movie: 抓狂博物館, ID: 10279\n",
      "Movie: 呆萌特務, ID: 10264\n",
      "Movie: 去年聖誕節, ID: 10256\n",
      "Movie: 野蠻遊戲：全面晉級, ID: 10134\n",
      "Movie: 布紐爾超現實人生, ID: 10334\n",
      "Movie: 夕霧花園, ID: 10327\n",
      "Movie: 寂寞診療室, ID: 10282\n",
      "Movie: 懸案密碼前傳：瓶中信, ID: 10254\n",
      "Movie: 布魯克林孤兒, ID: 10224\n",
      "Movie: 暴走曼哈頓, ID: 10044\n",
      "Movie: 鋒迴路轉, ID: 10258\n",
      "Movie: 賽道狂人, ID: 10097\n",
      "Movie: 麂皮：永不滿足, ID: 10358\n",
      "Movie: 82年生的金智英, ID: 10298\n",
      "Movie: 許怨房, ID: 10294\n",
      "Movie: BanG Dream！ FILM LIVE, ID: 10271\n",
      "Movie: 冰雪奇緣2, ID: 9597\n",
      "Movie: 催眠．裁決, ID: 10322\n",
      "Movie: 抱歉我們錯過你了, ID: 10309\n",
      "Movie: Hello World, ID: 10302\n",
      "Movie: 大餓, ID: 10296\n",
      "Movie: 萬萬沒想到, ID: 10281\n",
      "Movie: 神機有毛病, ID: 10260\n",
      "Movie: 為美好的世界獻上祝福！紅傳說, ID: 10226\n",
      "Movie: 樂園, ID: 10280\n",
      "Movie: 決戰中途島, ID: 10130\n",
      "Movie: 安眠醫生, ID: 10098\n",
      "Movie: 地久天長, ID: 9621\n",
      "Movie: 魔鬼終結者：黑暗宿命, ID: 10067\n",
      "Movie: 紫羅蘭永恆花園外傳－永遠與自動手記人偶－, ID: 10292\n",
      "Movie: 陽光普照, ID: 10240\n",
      "Movie: 阿達一族, ID: 9992\n",
      "Movie: 狙擊獵殺：救援行動, ID: 10284\n",
      "Movie: 雙子殺手, ID: 10017\n",
      "Movie: 盲人律師, ID: 10267\n",
      "Movie: 黑魔女2, ID: 10262\n",
      "Movie: 電影版 壞傢伙們, ID: 10249\n",
      "Movie: 藍波：最後一滴血, ID: 10205\n",
      "Movie: 屍樂園：髒比雙拼, ID: 10176\n",
      "Movie: 弒婚遊戲, ID: 10171\n",
      "Movie: 108悍將, ID: 10238\n",
      "Movie: 小丑, ID: 9949\n",
      "Movie: 瞞天機密, ID: 10206\n",
      "Movie: 校外打怪教學, ID: 10200\n",
      "Movie: 信用詐欺師JP, ID: 10190\n",
      "Movie: 無間行動, ID: 10155\n",
      "Movie: 星際救援, ID: 10227\n",
      "Movie: 返校, ID: 10109\n",
      "Movie: 今天也要用便當出擊, ID: 10223\n",
      "Movie: 花椒之味, ID: 10158\n",
      "Movie: 我家有個開心農場, ID: 10145\n",
      "Movie: 好小男孩, ID: 9894\n",
      "Movie: 牠 第二章, ID: 10042\n",
      "Movie: 極限逃生, ID: 10174\n",
      "Movie: 雙面特務, ID: 10163\n",
      "Movie: 你願意嫁給我老公嗎？, ID: 10141\n",
      "Movie: 第九分局, ID: 10099\n",
      "Movie: 下半場, ID: 9807\n",
      "Movie: 全面攻佔3：天使救援, ID: 10082\n",
      "Movie: 普羅米亞, ID: 10119\n",
      "Movie: 驅魔使者, ID: 10095\n",
      "Movie: 憤怒鳥玩電影2：冰的啦, ID: 10002\n",
      "Movie: 玩命關頭：特別行動, ID: 9582\n",
      "Movie: 獅子王, ID: 9116\n",
      "Movie: 玩具總動員4, ID: 9924\n",
      "Movie: 毀滅者, ID: 9405\n",
      "Movie: 庫爾斯克號：深海救援, ID: 9134\n",
      "Movie: 厄夜追緝令, ID: 9589\n",
      "Movie: 苦兒流浪記, ID: 9538\n",
      "Movie: 活個精彩, ID: 9394\n",
      "Movie: 限時好友, ID: 9578\n",
      "Movie: 祝你忌日快樂, ID: 9568\n",
      "Movie: 艾莉塔：戰鬥天使, ID: 8553\n",
      "Movie: 馴龍高手3, ID: 8350\n",
      "Movie: 幸福綠皮書, ID: 9150\n",
      "Movie: 貝士浮生錄, ID: 6906\n",
      "Movie: 一首搖滾上月球, ID: 4887\n",
      "Movie: 錢不夠用2, ID: 3026\n"
     ]
    }
   ],
   "source": [
    "url = 'https://movies.yahoo.com.tw/'\n",
    "resp = requests.get(url)\n",
    "resp.encoding = 'utf-8'\n",
    "soup = BeautifulSoup(resp.text, 'lxml')\n",
    "html = soup.find(\"select\", attrs={'name': 'movie_id'})\n",
    "# 找option標籤＞data-name有內容者\n",
    "movie_item = html.find_all(\"option\", attrs={'data-name': re.compile('.*')})\n",
    "# 片名、ID編號\n",
    "for p in movie_item:\n",
    "    print(\"Movie: %s, ID: %s\" % (p[\"data-name\"], p[\"value\"]))"
   ]
  },
  {
   "cell_type": "markdown",
   "metadata": {},
   "source": [
    "### 指定你有興趣的電影其ID，然後查詢其放映地區資訊。"
   ]
  },
  {
   "cell_type": "code",
   "execution_count": 13,
   "metadata": {},
   "outputs": [],
   "source": [
    "# 參考前一個步驟中擷取到的ID資訊，並指定ID\n",
    "movie_id = 10352"
   ]
  },
  {
   "cell_type": "code",
   "execution_count": 14,
   "metadata": {},
   "outputs": [
    {
     "name": "stdout",
     "output_type": "stream",
     "text": [
      "[{'area_id': 28, 'title': '台北市', 'priority': 150, 'ts_update': 1547519309}, {'area_id': 16, 'title': '桃園', 'priority': 140, 'ts_update': 1547452573}, {'area_id': 2, 'title': '台中', 'priority': 125, 'ts_update': 1547507368}, {'area_id': 10, 'title': '台南', 'priority': 100, 'ts_update': 1547507403}, {'area_id': 17, 'title': '高雄', 'priority': 95, 'ts_update': 1547507403}]\n",
      "----------\n",
      "放映地區: 台北市, 代號(area_id): 28\n",
      "放映地區: 桃園, 代號(area_id): 16\n",
      "放映地區: 台中, 代號(area_id): 2\n",
      "放映地區: 台南, 代號(area_id): 10\n",
      "放映地區: 高雄, 代號(area_id): 17\n"
     ]
    }
   ],
   "source": [
    "url = 'https://movies.yahoo.com.tw/api/v1/areas_by_movie_theater'\n",
    "payload = {'movie_id': str(movie_id)}\n",
    "# 模擬一個header\n",
    "headers = {\n",
    "    'authority': 'movies.yahoo.com.tw',\n",
    "    'method': 'GET',\n",
    "    'path': '/api/v1/areas_by_movie_theater?movie_id=' + str(movie_id),\n",
    "    'scheme': 'https',\n",
    "    'accept': 'application/json, text/javascript, */*; q=0.01',\n",
    "    'accept-encoding': 'gzip, deflate, br',\n",
    "    'accept-language': 'zh-TW,zh;q=0.9,en-US;q=0.8,en;q=0.7,zh-CN;q=0.6',\n",
    "    'cookie': 'rxx=9s3x2fws06.1g16irnc&v=1; _ga=GA1.3.2056742944.1551651301; GUC=AQEBAQFczFpdm0IfmwSB&s=AQAAACoo4N5D&g=XMsVBw; BX=4hkdk1decm57t&b=3&s=mr; _ga=GA1.4.2056742944.1551651301; nexagesuid=82843256dd234e8e91aa73f2062f8218; browsed_movie=eyJpdiI6IlJXWWtiSWJaZlNGK2MxQnhscnVUYWc9PSIsInZhbHVlIjoiMXRhMmVHRXRIeUNjc1RBWDJzdGYwbnlIQURmWGsrcjJSMzhkbkcraDNJVUNIZEZsbzU3amlFcVZ1NzlmazJrTGpoMjVrbHk1YmpoRENXaHZTOUw1TmI2ZTZVWHdOejZQZm16RmVuMWlHTTJLaTZLVFZZVkFOMDlTd1wvSGltcytJIiwibWFjIjoiZWQ2ZjA4MmVjZmZlYjlmNjJmYmY2NGMyMDI0Njc0NWViYjVkOWE2NDg0N2RhODMxZjBjZDhiMmJhZTc2MDZhYiJ9; avi=eyJpdiI6Im1NeWFJRlVRWDR1endEcGRGUGJUbVE9PSIsInZhbHVlIjoickRpU3JuUytmcGl6cjF5OW0rNU9iZz09IiwibWFjIjoiY2VmY2NkNzZmM2NhNjY5YzlkOTcyNjE5OGEyMzU0NWYxOTdmMDRkMDY3OWNmMmZjOTMxYjc5MjI5N2Q5NGE5MiJ9; cmp=t=1559391030&j=0; _gid=GA1.4.779543841.1559391031; XSRF-TOKEN=eyJpdiI6IkhpS2hGcDRQaHlmWUJmaHdSS2Q2bHc9PSIsInZhbHVlIjoiOUVoNFk4OHI1UUZmUWRtYXhza0MyWjJSTlhlZ3RnT0VGeVJPN2JuczVRMGRFdWt2OUlsamVKeHRobFwvcHBGM0dhU3VyMXNGTHlsb2dVM2l0U1hpUGxBPT0iLCJtYWMiOiJkZWU4YzJhNjAxMTY3MzE4Y2ExNWIxYmE1ZjE1YWZlZTlhOTcyYjc4M2RlZGY4ZWNjZDYyMTA2NGYwZGViMzc2In0%3D; m_s=eyJpdiI6InpsZHZ2Tk1BZ0dxaHhETml1RjBnUXc9PSIsInZhbHVlIjoiSkNGeHUranRoXC85bDFiaDhySTJqNkJRcWdjWUxjeVRJSHVYZ1wvd2d4bWJZUTUrSHVDM0lUcW5KNHdETFZ4T1lieU81OUhzc1VoUXhZcWk0UDZSQXVFdz09IiwibWFjIjoiYmJkMDJkMDhlODIzMzcyMWY4M2NmYWNjNGVlOWRjMDIwZmVmNzAyMjE3Yzg3ZGY3ODBkZWEzZTI4MTI5ZWNmOSJ9; _gat=1; nexagesd=10',\n",
    "    'dnt': '1',\n",
    "    'mv-authorization': '21835b082e15b91a69b3851eec7b31b82ce82afb',\n",
    "    'referer': 'https://movies.yahoo.com.tw/',\n",
    "    'user-agent': 'Mozilla/5.0 (Windows NT 10.0; Win64; x64) AppleWebKit/537.36 (KHTML, like Gecko) Chrome/74.0.3729.169 Safari/537.36',\n",
    "    'x-requested-with': 'XMLHttpRequest',\n",
    "}\n",
    "resp = requests.get(url, params=payload, headers=headers)\n",
    "print(resp.json())     # 若有需要，列印出json原始碼\n",
    "print('-' * 10)\n",
    "\n",
    "# 這裡回傳的格式是JSON格式的資料，要解析JSON擷取資料\n",
    "for p in resp.json():\n",
    "    print('放映地區: {0}, 代號(area_id): {1}'.format(p['title'], p['area_id']))"
   ]
  },
  {
   "cell_type": "markdown",
   "metadata": {},
   "source": [
    "### 指定你想要觀看的放映地區，查詢有上映電影的場次日期"
   ]
  },
  {
   "cell_type": "code",
   "execution_count": 15,
   "metadata": {},
   "outputs": [],
   "source": [
    "# 指定放映地區\n",
    "area_id = 16"
   ]
  },
  {
   "cell_type": "code",
   "execution_count": 16,
   "metadata": {},
   "outputs": [
    {
     "name": "stdout",
     "output_type": "stream",
     "text": [
      "十二月 12日\n",
      "十二月 13日\n",
      "十二月 14日\n",
      "十二月 15日\n",
      "十二月 16日\n"
     ]
    }
   ],
   "source": [
    "# 向網站發送請求\n",
    "url = 'https://movies.yahoo.com.tw/movietime_result.html'\n",
    "payload = {'movie_id': str(movie_id), 'area_id': str(area_id)}\n",
    "resp = requests.get(url, params=payload)\n",
    "resp.encoding = 'utf-8'\n",
    "soup = BeautifulSoup(resp.text, 'lxml')\n",
    "movie_date = soup.find_all(\"label\", attrs={'for': re.compile(\"date_[\\d]\")})\n",
    "# 列印播放日期\n",
    "for date in movie_date:\n",
    "    print(\"%s %s日\" % (date.p.string, date.h3.string))"
   ]
  },
  {
   "cell_type": "markdown",
   "metadata": {},
   "source": [
    "### 最後指定觀看的日期，查詢並列印出放映的電影院、放映類型(數位、3D、IMAX 3D...)、放映時間等資訊。"
   ]
  },
  {
   "cell_type": "code",
   "execution_count": 17,
   "metadata": {},
   "outputs": [],
   "source": [
    "# 選定要觀看的日期\n",
    "date = \"2019-12-12\""
   ]
  },
  {
   "cell_type": "code",
   "execution_count": 19,
   "metadata": {},
   "outputs": [],
   "source": [
    "# 向網站發送請求，獲取上映的電影院及時間資訊\n",
    "url = \"https://movies.yahoo.com.tw/ajax/pc/get_schedule_by_movie\"\n",
    "payload = {'movie_id': str(movie_id),\n",
    "           'date': date,\n",
    "           'area_id': str(area_id),\n",
    "           'theater_id': '',\n",
    "           'datetime': '',\n",
    "           'movie_type_id': ''}\n",
    "resp = requests.get(url, params=payload)\n",
    "# print(resp.json()['view'])  # 若有需要，列印出json原始碼\n",
    "# 擷取電影院名稱、影片放映類型以及時間表\n",
    "soup = BeautifulSoup(resp.json()['view'], 'lxml')\n",
    "    # 找出有任何戲院名稱者\n",
    "html = soup.find_all(\"ul\", attrs={'data-theater_name': re.compile(\".*\")})"
   ]
  },
  {
   "cell_type": "code",
   "execution_count": 20,
   "metadata": {
    "scrolled": true
   },
   "outputs": [
    {
     "name": "stdout",
     "output_type": "stream",
     "text": [
      "電影院名稱 = SBC星橋國際影城\n",
      "影片放映類型 = 數位\n",
      "時間表 = ['13:00', '14:35', '16:10', '20:15', '21:50', '23:25']\n",
      "-----\n",
      "電影院名稱 = 桃園統領威秀影城\n",
      "影片放映類型 = 數位\n",
      "時間表 = ['15:30', '22:45']\n",
      "-----\n"
     ]
    }
   ],
   "source": [
    "for i in html:\n",
    "    print('電影院名稱 =', i['data-theater_name'])\n",
    "    print('影片放映類型 =', i.find('span', class_='tapR').string)\n",
    "    print('時間表 =', [t['data-movie_time'] for t in i.find_all('input')])\n",
    "    print('-' * 5)"
   ]
  }
 ],
 "metadata": {
  "kernelspec": {
   "display_name": "Python 3",
   "language": "python",
   "name": "python3"
  },
  "language_info": {
   "codemirror_mode": {
    "name": "ipython",
    "version": 3
   },
   "file_extension": ".py",
   "mimetype": "text/x-python",
   "name": "python",
   "nbconvert_exporter": "python",
   "pygments_lexer": "ipython3",
   "version": "3.7.4"
  }
 },
 "nbformat": 4,
 "nbformat_minor": 2
}
