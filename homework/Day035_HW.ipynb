{
 "cells": [
  {
   "cell_type": "markdown",
   "metadata": {},
   "source": [
    "# 加速：多線程爬蟲\n",
    "\n",
    "\n",
    "\n",
    "* 了解知乎 API 使用方式與回傳內容\n",
    "* 撰寫程式存取 API 且添加標頭"
   ]
  },
  {
   "cell_type": "markdown",
   "metadata": {},
   "source": [
    "## 作業目標\n",
    "\n",
    "* 找一個之前實作過的爬蟲改用多線程改寫，比較前後時間的差異。\n",
    "\n",
    "\n",
    "\n"
   ]
  },
  {
   "cell_type": "code",
   "execution_count": 5,
   "metadata": {
    "scrolled": true
   },
   "outputs": [
    {
     "name": "stdout",
     "output_type": "stream",
     "text": [
      "Use 103.194.242.78:47727\n",
      "Your IP address: 103.194.242.78\n",
      "Use 103.87.236.46:41183\n",
      "Fail\n",
      "Use 181.115.168.69:49076\n",
      "Fail\n",
      "Use 157.119.207.35:8080\n",
      "Fail\n",
      "Use 103.111.54.26:49781\n",
      "Fail\n",
      "Use 212.117.19.215:55555\n",
      "Fail\n",
      "Use 1.20.102.228:59054\n",
      "Fail\n",
      "Use 188.168.96.34:34298\n",
      "Fail\n",
      "Use 151.232.72.19:80\n",
      "Fail\n",
      "Use 91.190.85.97:34286\n",
      "Your IP address: 91.190.85.97\n",
      "原始爬蟲時間 = 96.67403292655945\n",
      "多線程爬蟲時間 = 0.0009772777557373047\n",
      "Use 170.246.152.106:56838\n",
      "Fail\n",
      "Use 1.186.40.157:54754\n",
      "Your IP address: 1.186.40.2\n",
      "Use 157.119.207.13:6666\n",
      "Fail\n",
      "Use 180.87.195.22:44997\n",
      "Fail\n",
      "Use 203.142.68.141:3128\n",
      "Fail\n",
      "Use 198.211.96.170:3128\n",
      "Your IP address: 198.211.96.170\n",
      "Use 78.46.91.48:1080\n",
      "Fail\n",
      "Use 154.0.15.166:46547\n",
      "Fail\n",
      "Use 86.105.51.76:80\n",
      "Your IP address: 86.105.51.76\n",
      "Use 143.0.245.9:48158\n",
      "Your IP address: 143.0.245.9\n"
     ]
    }
   ],
   "source": [
    "# D34作業改寫\n",
    "import random\n",
    "import requests\n",
    "from bs4 import BeautifulSoup\n",
    "import time\n",
    "import _thread\n",
    "\n",
    "proxy_ips = []\n",
    "url = 'https://free-proxy-list.net/'\n",
    "resp = requests.get(url)\n",
    "soup = BeautifulSoup(resp.text, 'html5lib')\n",
    "for i in soup.find('tbody'):\n",
    "    proxy_ips.append(i.find_all('td')[0].text + ':' + i.find_all('td')[1].text)\n",
    "\n",
    "def iter_proxy(proxy_ips, n=10):\n",
    "    for i in range(n):\n",
    "        ip = random.choice(proxy_ips)\n",
    "        print('Use', ip)\n",
    "        try:\n",
    "            resp = requests.get('http://ip.filefab.com/index.php', \n",
    "                                proxies={'http': ip, 'https': ip}, timeout=10)\n",
    "            soup = BeautifulSoup(resp.text, 'html5lib')\n",
    "            print(soup.find('h1', id='ipd').text.strip())\n",
    "        except:\n",
    "            print('Fail')\n",
    "\n",
    "startTime = time.time()\n",
    "iter_proxy(proxy_ips, 10)\n",
    "finishTime = time.time()\n",
    "print('原始爬蟲時間 =', finishTime - startTime)\n",
    "\n",
    "startTime = time.time()\n",
    "_thread.start_new_thread(iter_proxy, (proxy_ips, 10))\n",
    "finishTime = time.time()\n",
    "print('多線程爬蟲時間 =', finishTime - startTime)"
   ]
  }
 ],
 "metadata": {
  "colab": {
   "name": "homework.ipynb",
   "provenance": []
  },
  "kernelspec": {
   "display_name": "Python 3",
   "language": "python",
   "name": "python3"
  },
  "language_info": {
   "codemirror_mode": {
    "name": "ipython",
    "version": 3
   },
   "file_extension": ".py",
   "mimetype": "text/x-python",
   "name": "python",
   "nbconvert_exporter": "python",
   "pygments_lexer": "ipython3",
   "version": "3.7.3"
  }
 },
 "nbformat": 4,
 "nbformat_minor": 1
}
