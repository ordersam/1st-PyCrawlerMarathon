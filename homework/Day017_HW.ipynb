{
 "cells": [
  {
   "cell_type": "markdown",
   "metadata": {},
   "source": [
    "# HTTP 動態網頁架構說明\n",
    "\n",
    "\n",
    "* 了解動態網頁的資料爬蟲策略\n",
    "* 知道非同步網頁載入機制（Ajax）\n",
    "* 學習兩種對應動態網頁爬蟲的的策略\n"
   ]
  },
  {
   "cell_type": "markdown",
   "metadata": {},
   "source": [
    "## 作業目標\n",
    "\n",
    "回答以下問題：\n",
    "\n",
    "1. 動態網頁跟靜態網頁的差別是什麼？原本靜態網頁的做法會產生什麼問題或是缺點？\n",
    "2. 還記得我們在 ETTODAY 靜態爬蟲實作練習中，有請大家完成一個題目「取出今天所有的發文」，但仔細看其實並沒有真的把當天所有的新聞都抓回來， 試著回答看看原因是什麼？及該如何檢查？\n"
   ]
  },
  {
   "cell_type": "markdown",
   "metadata": {},
   "source": [
    "### 1. 動態網頁跟靜態網頁的差別是什麼？原本靜態網頁的做法會產生什麼問題或是缺點？"
   ]
  },
  {
   "cell_type": "markdown",
   "metadata": {},
   "source": [
    "* 靜態網頁：透過每次user request，後端產⽣一次網頁 Response\n",
    "    * HTTP requests\n",
    "    * 回傳 HTML原始碼\n",
    "    * request與Response為一對一(同步)\n",
    "    * 缺點：無後端資料庫支援，適用較小資料量、更新起來較麻煩、每次都是全部載入較吃流量，無法在同一頁面更新資料\n",
    "* 動態網頁：透過 Ajax 技術，任何時間點都可request給後端\n",
    "    * XMLHTTP requests\n",
    "    * 回傳資料(Data, 為API的一種, Data API)而非整個網頁(非同步)\n",
    "        * a.先取得 HTML(還沒有資料)\n",
    "        * b.透過JavaScript在需要時動態取得資料(API Request取得資料)\n",
    "        * c.JavaScript更新資料到HTML並呈現給user\n",
    "    * 優點：提升使用者體驗、節省流量"
   ]
  },
  {
   "cell_type": "markdown",
   "metadata": {},
   "source": [
    "### 2. 還記得我們在 ETTODAY 靜態爬蟲實作練習中，有請大家完成一個題目「取出今天所有的發文」，但仔細看其實並沒有真的把當天所有的新聞都抓回來， 試著回答看看原因是什麼？及該如何檢查？"
   ]
  },
  {
   "cell_type": "markdown",
   "metadata": {},
   "source": [
    "* D12作業：Ettoday 網路爬蟲實作練習(Request + BeatifulSoup)\n",
    "    * 「ETtoday> 新聞總覽」的新聞類別與標題：https://www.ettoday.net/news/news-list.htm\n",
    "* 原因\n",
    "    * 在該案例中，由於下拉會動態更新資料，因此如果以靜態網頁爬蟲方式抓取資料，僅能取得部分資料\n",
    "* 檢查\n",
    "    * 在下午或晚上爬蟲，可以發現時間並非從當天開始，而僅有下午甚至晚上的新聞，但該網站新聞則數是整天都有在更新"
   ]
  }
 ],
 "metadata": {
  "kernelspec": {
   "display_name": "Python 3",
   "language": "python",
   "name": "python3"
  },
  "language_info": {
   "codemirror_mode": {
    "name": "ipython",
    "version": 3
   },
   "file_extension": ".py",
   "mimetype": "text/x-python",
   "name": "python",
   "nbconvert_exporter": "python",
   "pygments_lexer": "ipython3",
   "version": "3.7.4"
  }
 },
 "nbformat": 4,
 "nbformat_minor": 2
}
