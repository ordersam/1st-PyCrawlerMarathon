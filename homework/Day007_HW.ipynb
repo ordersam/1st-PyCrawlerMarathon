{
 "cells": [
  {
   "cell_type": "markdown",
   "metadata": {},
   "source": [
    "# HTTP 靜態網頁架構說明\n",
    "\n",
    "* 認識靜態網頁的溝通架構與運作原理\n",
    "* HTML、CSS、JavaScript 在網頁中扮演的角色\n",
    "* 網頁中定位資料的方法"
   ]
  },
  {
   "cell_type": "markdown",
   "metadata": {},
   "source": [
    "## 作業目標\n",
    "\n",
    "1. （簡答題）請問目前提到的這種基於 HTTP 一來一回的網頁傳輸方式，有哪些缺點及問題？\n",
    "2. （簡答題）網頁中使用的 JavaScipt 程式語言，跟我們一般使用的 Python 在執行上有什麼不同。\n"
   ]
  },
  {
   "cell_type": "markdown",
   "metadata": {},
   "source": [
    "### 1.（簡答題）請問目前提到的這種基於 HTTP 一來一回的網頁傳輸方式，有哪些缺點及問題？\n",
    "* 主要是安全性問題\n",
    "    * 通信使用明文（不加密），內容可能會被竊聽\n",
    "    * 不驗證通信方的身份，因此有可能遭遇偽裝（客戶端和服務端都有可能）\n",
    "    * 無法證明報文的完整性，有可能會被篡改\n",
    "* 解決方法是使用HTTPS，即 HTTP + SSL/TLS，也就是HTTP上面加一層處理加密信息的模塊\n",
    "    * HTTPS技術方面缺點(CDN等方式可改進)\n",
    "        * 相同網絡環境下，HTTPS協議會使頁面加載時間延長近50%，增加10%到20%的耗電；此外會影響緩存，增加數據開銷和功耗\n",
    "        * HTTPS協議的安全是有範圍的，在黑客攻擊、拒絕服務攻擊、伺服器劫持等方面幾乎起不到什麼作用\n",
    "        * 最關鍵是 SSL 證書的信用鏈體系並不安全，特別是在某些國家可以控制 CA 根證書的情況下，中間人攻擊一樣可行\n",
    "    * HTTPS成本方面缺點(免費證書和一站式HTTPS搭建服務降低成本)\n",
    "        * SSL的專業證書需要購買，功能越強大的證書費用越高，個人網站、小網站可以選擇入門級免費證書\n",
    "        * SSL 證書通常需要綁定 固定IP，為伺服器增加固定IP會增加一定費用\n",
    "        * HTTPS 連接伺服器端資源占用高較高多，相同負載下會增加帶寬和伺服器投入成本"
   ]
  },
  {
   "cell_type": "markdown",
   "metadata": {},
   "source": [
    "### 2. （簡答題）網頁中使用的 JavaScipt 程式語言，跟我們一般使用的 Python 在執行上有什麼不同。\n",
    "    # Python：主要應用於資料科學，語法具有 直觀容易學習、開發成本較低、免費開源等多種優勢\n",
    "        # 物件導向：基於類別（class）的繼承，並天然的支援多型（polymophine）\n",
    "        # 資料型態可否修改：一切均為物件，有五個內建的基本資料型態(bool、int、long、float和complex)，有的資料型態不可修改\n",
    "            # bool：True和False\n",
    "            # str：ASCII碼\n",
    "            # 數值：有諸多的數值型別，其中的複數型別非常方便，沒有定義NaN(Not a number)\n",
    "            # array：List、tuple接近\n",
    "            # 自動型態轉換：一般不會自動轉換資料型態\n",
    "        # 語法\n",
    "            # 風格：使用縮排，較為簡潔\n",
    "            # 賦值：Python中沒有全等（===），\"或\"和\"與\"使用and 和 or，更接近自然語言\n",
    "    # Javascript：主要應用於瀏覽器，語法主要借鑑C語言\n",
    "        # 物件導向：基於原型(prototype)，物件的繼承是由原型（也是物件）建立出來\n",
    "        # 資料型態可否修改：所有資料型態均可修改\n",
    "            # bool：true和false\n",
    "            # str：UTF16編碼\n",
    "            # 數值：均為64位浮點數，支援NaN、正負無窮大（ /-Infiity）\n",
    "            # array：內建array（array也是object）\n",
    "            # 自動型態轉換：儘可能自動轉換，容易出錯\n",
    "        # 語法\n",
    "            # 風格：與C語言較為接近\n",
    "            # 賦值：使用=賦值，擁有判斷相等（==）和全等（===）兩種相等的判斷"
   ]
  },
  {
   "cell_type": "code",
   "execution_count": null,
   "metadata": {},
   "outputs": [],
   "source": []
  }
 ],
 "metadata": {
  "kernelspec": {
   "display_name": "Python 3",
   "language": "python",
   "name": "python3"
  },
  "language_info": {
   "codemirror_mode": {
    "name": "ipython",
    "version": 3
   },
   "file_extension": ".py",
   "mimetype": "text/x-python",
   "name": "python",
   "nbconvert_exporter": "python",
   "pygments_lexer": "ipython3",
   "version": "3.7.4"
  }
 },
 "nbformat": 4,
 "nbformat_minor": 2
}
