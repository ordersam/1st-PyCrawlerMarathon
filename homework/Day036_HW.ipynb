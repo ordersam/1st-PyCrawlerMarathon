{
 "cells": [
  {
   "cell_type": "markdown",
   "metadata": {},
   "source": [
    "# 加速：非同步爬蟲\n",
    "\n",
    "* 了解非同步爬蟲加速原理與實作"
   ]
  },
  {
   "cell_type": "markdown",
   "metadata": {},
   "source": [
    "## 作業目標\n",
    "\n",
    "* 比較一下非同步爬蟲跟多線程爬蟲的差異是什麼？各自的優缺點為何？"
   ]
  },
  {
   "cell_type": "markdown",
   "metadata": {
    "scrolled": true
   },
   "source": [
    "* 相同：加速程式response(主機系統 or 網頁API下載)\n",
    "* 相異\n",
    "    * 多線程：同步流程，依序執行，一件事情做完才做第二件\n",
    "    * 非同步：程式執行非從頭到尾\n",
    "* 優點\n",
    "    * 多線程\n",
    "        * 同步流程\n",
    "            * 對結果處理通常更為簡單，可以就近處理\n",
    "            * 始終和前文保持在一個上下文內\n",
    "            * 可很容易捕獲、處理異常\n",
    "            * 最天然的控制過程順序執行的方式\n",
    "        * 符合一般思維，程式設計簡單\n",
    "    * 非同步\n",
    "        * 可以立即給呼叫方返回初步的結果\n",
    "        * 可以延遲給呼叫方最終的結果資料，在此期間可以做更多額外的工作，例如結果記錄等等\n",
    "        * 在執行的過程中，可以釋放佔用的執行緒等資源，避免阻塞，等到結果產生再重新獲取執行緒處理\n",
    "        * 可以等多次呼叫的結果出來後，再統一返回一次結果集合，提高響應效率\n",
    "* 缺點\n",
    "    * 多線程\n",
    "        * 同步流程\n",
    "            * 執行效率較低、耗時，但有利流程控制\n",
    "        * 執行緒\n",
    "            * 執行緒本質上是程序中一段併發執行的程式碼，所以執行緒需要作業系統投入CPU資源來執行和排程\n",
    "            * 執行緒的使用（濫用）會給系統帶來上下文切換的額外負擔\n",
    "            * 執行緒間的共享變數可能造成死鎖的出現\n",
    "    * 非同步\n",
    "        * 執行效率高、省時，但占用更多資源、不利流程控制\n",
    "* 適用時機\n",
    "    * 多線程\n",
    "        * 需要長時間CPU運算的場合，例如耗時較長的圖形處理和演算法執行\n",
    "    * 非同步\n",
    "        * I/O操作：檔案及網路的讀寫、資料庫操作、Web Service、HttpRequest以及.Net Remoting等跨程序的呼叫"
   ]
  }
 ],
 "metadata": {
  "colab": {
   "name": "homework.ipynb",
   "provenance": []
  },
  "kernelspec": {
   "display_name": "Python 3",
   "language": "python",
   "name": "python3"
  },
  "language_info": {
   "codemirror_mode": {
    "name": "ipython",
    "version": 3
   },
   "file_extension": ".py",
   "mimetype": "text/x-python",
   "name": "python",
   "nbconvert_exporter": "python",
   "pygments_lexer": "ipython3",
   "version": "3.7.3"
  }
 },
 "nbformat": 4,
 "nbformat_minor": 1
}
