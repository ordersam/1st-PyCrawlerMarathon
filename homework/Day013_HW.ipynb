{
 "cells": [
  {
   "cell_type": "markdown",
   "metadata": {},
   "source": [
    "# PTT 網路爬蟲實作練習\n",
    "\n",
    "\n",
    "* 能夠利用 Request + BeatifulSour 撰寫爬蟲，並存放到合適的資料結構\n"
   ]
  },
  {
   "cell_type": "markdown",
   "metadata": {},
   "source": [
    "## 作業目標\n",
    "\n",
    "根據範例 ，完成以下問題：\n",
    "\n",
    "* ① 印出最新文章的「作者」「標題」「時間」\n",
    "* ② 印出第一頁所有文章的「作者」「標題」「時間」\n"
   ]
  },
  {
   "cell_type": "markdown",
   "metadata": {},
   "source": [
    "### ① 印出最新文章的「作者」「標題」「時間」"
   ]
  },
  {
   "cell_type": "code",
   "execution_count": 1,
   "metadata": {},
   "outputs": [
    {
     "name": "stdout",
     "output_type": "stream",
     "text": [
      "作者 = Rambo (香帥)\n",
      "標題 = [Live] 暴龍 @ 公牛\n",
      "時間 = Tue Dec 10 08:30:11 2019\n"
     ]
    }
   ],
   "source": [
    "import requests\n",
    "from bs4 import BeautifulSoup\n",
    "\n",
    "url1 = 'https://www.ptt.cc/bbs/NBA/index.html'\n",
    "r = requests.get(url1)\n",
    "soup1 = BeautifulSoup(r.text, \"html5lib\")\n",
    "\n",
    "url = 'https://www.ptt.cc'+soup1.find_all(class_=\"title\")[0].find('a')['href']\n",
    "r = requests.get(url)\n",
    "soup = BeautifulSoup(r.text, \"html5lib\")\n",
    "print('作者 = ' + soup.find_all(class_='article-meta-value')[0].text)\n",
    "print('標題 = ' + soup.find_all(class_='article-meta-value')[2].text)\n",
    "print('時間 = ' + soup.find_all(class_='article-meta-value')[3].text)"
   ]
  },
  {
   "cell_type": "markdown",
   "metadata": {},
   "source": [
    "### ② 印出第一頁所有文章的「作者」「標題」「時間」"
   ]
  },
  {
   "cell_type": "code",
   "execution_count": 2,
   "metadata": {
    "scrolled": true
   },
   "outputs": [
    {
     "name": "stdout",
     "output_type": "stream",
     "text": [
      "作者 = Rambo (香帥)\n",
      "標題 = [Live] 暴龍 @ 公牛\n",
      "時間 = Tue Dec 10 08:30:11 2019 \n",
      "\n",
      "作者 = Aotearoa (長白雲之鄉)\n",
      "標題 = [花邊] 小牛官方短片：Mavericks Style\n",
      "時間 = Tue Dec 10 08:35:08 2019 \n",
      "\n",
      "作者 = Rambo (香帥)\n",
      "標題 = [Live] 活塞 @ 鵜鶘\n",
      "時間 = Tue Dec 10 08:36:23 2019 \n",
      "\n",
      "作者 = Rambo (香帥)\n",
      "標題 = [Live] 魔術 @ 公鹿\n",
      "時間 = Tue Dec 10 08:37:33 2019 \n",
      "\n",
      "作者 = Rambo (香帥)\n",
      "標題 = [Live] 灰狼 @ 太陽\n",
      "時間 = Tue Dec 10 09:30:07 2019 \n",
      "\n",
      "作者 = Rambo (香帥)\n",
      "標題 = [Live] 雷霆 @ 爵士\n",
      "時間 = Tue Dec 10 09:31:05 2019 \n",
      "\n",
      "作者 = stud0361411 (呆普森)\n",
      "標題 = [情報] 火箭與馬刺的比賽抗議被否決\n",
      "時間 = Tue Dec 10 09:47:00 2019 \n",
      "\n",
      "作者 = kairiyu (E N O U G H  is  enough)\n",
      "標題 = [情報] CBA聯賽的廣廈男籃裁掉半獸人\n",
      "時間 = Tue Dec 10 10:11:24 2019 \n",
      "\n",
      "作者 = melman87 (長頸男)\n",
      "標題 = [花邊] 暴龍將為K.Leonard舉辦特殊領戒指儀式\n",
      "時間 = Tue Dec 10 10:47:37 2019 \n",
      "\n",
      "作者 = Rambo (香帥)\n",
      "標題 = [Live] 灰熊 @ 勇士\n",
      "時間 = Tue Dec 10 11:00:01 2019 \n",
      "\n",
      "作者 = Yui5 (唯控)\n",
      "標題 = [花邊] 甜瓜：KD和Irving沒選擇尼克並不讓我吃驚\n",
      "時間 = Tue Dec 10 11:15:30 2019 \n",
      "\n",
      "作者 = Vedan (味丹)\n",
      "標題 = [公告] 樂透取消及未來不再開啟樂透\n",
      "時間 = Mon Jun 24 15:08:02 2019 \n",
      "\n",
      "作者 = qazwsx879345 (Rajon Rondo)\n",
      "標題 = [公告] 版主上任相關事項\n",
      "時間 = Fri Oct 25 10:44:03 2019 \n",
      "\n",
      "作者 = JerroLi (銀色小刀)\n",
      "標題 = [情報] SEASON Schedule 賽程 December 19–20\n",
      "時間 = Fri Nov 29 00:46:01 2019 \n",
      "\n",
      "作者 = dragon803 (好想去露營啊~)\n",
      "標題 = [公告]是否禁止basketball top 5文章投票開始\n",
      "時間 = Sun Dec  8 23:55:00 2019 \n",
      "\n"
     ]
    }
   ],
   "source": [
    "url1 = 'https://www.ptt.cc/bbs/NBA/index.html'\n",
    "r = requests.get(url1)\n",
    "soup1 = BeautifulSoup(r.text, \"html5lib\")\n",
    "\n",
    "for d in soup1.find_all(class_=\"title\"):\n",
    "    if d.find('a'):\n",
    "        url = 'https://www.ptt.cc'+d.find('a')['href']\n",
    "        r = requests.get(url)\n",
    "        soup = BeautifulSoup(r.text, \"html5lib\")\n",
    "        try:\n",
    "            print('作者 = ' + soup.find_all(class_='article-meta-value')[0].text)\n",
    "            print('標題 = ' + soup.find_all(class_='article-meta-value')[2].text)\n",
    "            print('時間 = ' + soup.find_all(class_='article-meta-value')[3].text, '\\n')\n",
    "        except:\n",
    "            continue"
   ]
  },
  {
   "cell_type": "markdown",
   "metadata": {},
   "source": [
    "### ③ 試著爬爬看其他版的文章"
   ]
  },
  {
   "cell_type": "code",
   "execution_count": 3,
   "metadata": {
    "scrolled": true
   },
   "outputs": [
    {
     "name": "stdout",
     "output_type": "stream",
     "text": [
      "作者 = KKKKKvs333 (國內333 國外5連K)\n",
      "標題 = Re: [討論]  你覺得最尷尬的電影橋段？\n",
      "時間 = Tue Dec 10 00:44:41 2019 \n",
      "\n",
      "作者 = qpr322 (龍魚)\n",
      "標題 = [情報] 2019 底特律影評人協會 得獎名單\n",
      "時間 = Tue Dec 10 01:09:03 2019 \n",
      "\n",
      "作者 = raura (  )\n",
      "標題 = [情報] 2019年各家電影劇本\n",
      "時間 = Tue Dec 10 01:17:06 2019 \n",
      "\n",
      "作者 = currykukuo (陳菊濕汗)\n",
      "標題 = Re: [討論] Lost In The Woods這首歌(雷)\n",
      "時間 = Tue Dec 10 03:07:11 2019 \n",
      "\n",
      "作者 = drjcount (沒有妹妹)\n",
      "標題 = [問片] 女主用3D列印把惡魔印出來殺死的恐怖片（\n",
      "時間 = Tue Dec 10 06:39:54 2019 \n",
      "\n",
      "作者 = davidlo (David)\n",
      "標題 = [討論] 最後一次進電影院看的電影\n",
      "時間 = Tue Dec 10 06:45:31 2019 \n",
      "\n",
      "作者 = MyAll (靜岡玉露)\n",
      "標題 = [評論] 聞天祥談 / 安妮華達\n",
      "時間 = Tue Dec 10 07:52:05 2019 \n",
      "\n",
      "作者 = jupiterchen (Dr. Jupiter)\n",
      "標題 = ［無雷］HELLO WORLD 無雷推薦\n",
      "時間 = Tue Dec 10 09:43:05 2019 \n",
      "\n",
      "作者 = qpr322 (龍魚)\n",
      "標題 = [情報] 2019 法國 路易德呂克獎 得獎名單\n",
      "時間 = Tue Dec 10 10:09:53 2019 \n",
      "\n",
      "作者 = chirex (去吧~小智)\n",
      "標題 = [負雷] 星際戰警：跨國行動\n",
      "時間 = Tue Dec 10 10:47:20 2019 \n",
      "\n",
      "作者 = allen01906 (曉頌)\n",
      "標題 = [微好雷] 淪落人—相逢何必曾相識？\n",
      "時間 = Tue Dec 10 11:25:59 2019 \n",
      "\n",
      "作者 = ckshchen (尖酸苛博文)\n",
      "標題 = [公告] 暫定版規。歡迎討論，一個月後定案\n",
      "時間 = Tue Jun  4 09:24:15 2019 \n",
      "\n",
      "作者 = hhwang (雪野)\n",
      "標題 = [公告] 板規新增每日發文上限規定\n",
      "時間 = Thu Aug 15 15:57:10 2019 \n",
      "\n",
      "作者 = kai3368 (人間失格待宰彘)\n",
      "標題 = Fw: [公告] 請使用安全的連線方式連線本站\n",
      "時間 = Sun Nov 24 17:24:56 2019 \n",
      "\n"
     ]
    }
   ],
   "source": [
    "# movie版\n",
    "url1 = 'https://www.ptt.cc/bbs/movie/index.html'\n",
    "r = requests.get(url1)\n",
    "soup1 = BeautifulSoup(r.text, \"html5lib\")\n",
    "\n",
    "for d in soup1.find_all(class_=\"title\"):\n",
    "    if d.find('a'):\n",
    "        url = 'https://www.ptt.cc'+d.find('a')['href']\n",
    "        r = requests.get(url)\n",
    "        soup = BeautifulSoup(r.text, \"html5lib\")\n",
    "        try:\n",
    "            print('作者 = ' + soup.find_all(class_='article-meta-value')[0].text)\n",
    "            print('標題 = ' + soup.find_all(class_='article-meta-value')[2].text)\n",
    "            print('時間 = ' + soup.find_all(class_='article-meta-value')[3].text, '\\n')\n",
    "        except:\n",
    "            continue"
   ]
  }
 ],
 "metadata": {
  "kernelspec": {
   "display_name": "Python 3",
   "language": "python",
   "name": "python3"
  },
  "language_info": {
   "codemirror_mode": {
    "name": "ipython",
    "version": 3
   },
   "file_extension": ".py",
   "mimetype": "text/x-python",
   "name": "python",
   "nbconvert_exporter": "python",
   "pygments_lexer": "ipython3",
   "version": "3.7.4"
  }
 },
 "nbformat": 4,
 "nbformat_minor": 2
}
