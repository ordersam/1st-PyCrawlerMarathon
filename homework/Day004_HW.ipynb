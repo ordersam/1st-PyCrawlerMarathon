{
 "cells": [
  {
   "cell_type": "markdown",
   "metadata": {
    "colab_type": "text",
    "id": "uSf0mVenUdOf"
   },
   "source": [
    "# 利用 Python 存取 API\n",
    "\n",
    "\n",
    "* 了解 Server Client 的架構與溝通方法\n",
    "* 知道 HTTP Request & Response 的內容\n",
    "* 什麼是 API？如何用 Python 程式存取 API 資料\n"
   ]
  },
  {
   "cell_type": "markdown",
   "metadata": {
    "colab_type": "text",
    "id": "FwvxVPZuUdOh"
   },
   "source": [
    "## 作業目標\n",
    "\n",
    "* 比較一下範例檔案中的「r.text」與「json.loads(r.text)」讀出來的內容有什麼差異\n",
    "* 自行尋找一個合適的 API 接口做練習，並且查看其回傳內容\n",
    "    * https://cat-fact.herokuapp.com/facts (來源：https://alexwohlbruck.github.io/cat-facts/)\n",
    "    * http://odata.wra.gov.tw/v4/RealtimeWaterLevel (來源：https://data.gov.tw/dataset/25768)\n",
    "\n"
   ]
  },
  {
   "cell_type": "markdown",
   "metadata": {
    "colab_type": "text",
    "id": "r5GIjwYuUdOi"
   },
   "source": [
    "### 比較一下範例檔案中的「r.text」與「json.loads(r.text)」讀出來的內容有什麼差異\n",
    "    # r.text是直接GET爬取的HTML資料\n",
    "    # json.loads(r.text)是將爬取下來的資料(str，表現形式用dict)轉換成json格式(類dict格式)\n",
    "    # python dict與json資料型態不同\n",
    "        # list 和 tuple(json改成array)、dict(json改成object)\n",
    "        # int 和 float(json改成number)、str(json改成string)\n",
    "        # True 和 False(json改成true 和 false)、None(json改成null)"
   ]
  },
  {
   "cell_type": "code",
   "execution_count": 7,
   "metadata": {
    "colab": {},
    "colab_type": "code",
    "id": "sVxW3MTeUdOj",
    "outputId": "a83e3e3b-eb9d-4c6d-d5d2-3a2ef30cee87"
   },
   "outputs": [
    {
     "name": "stdout",
     "output_type": "stream",
     "text": [
      "---r.text---\n",
      " <class 'str'> \n",
      "\n",
      "---json.loads(r.text)---\n",
      " <class 'dict'>\n"
     ]
    }
   ],
   "source": [
    "import requests\n",
    "r = requests.get('http://odata.wra.gov.tw/v4/RealtimeWaterLevel')\n",
    "print('---r.text---\\n', type(r.text), '\\n')\n",
    "import json\n",
    "print('---json.loads(r.text)---\\n', type(json.loads(r.text)))"
   ]
  },
  {
   "cell_type": "markdown",
   "metadata": {
    "colab_type": "text",
    "id": "eJwMGD6XUdOn"
   },
   "source": [
    "### 自行尋找一個合適的 API 接口做練習，並且查看其回傳內容\n",
    "\n",
    "* https://cat-fact.herokuapp.com/facts (來源：https://alexwohlbruck.github.io/cat-facts/)\n",
    "* http://odata.wra.gov.tw/v4/RealtimeWaterLevel (來源：https://data.gov.tw/dataset/25768)\n"
   ]
  },
  {
   "cell_type": "code",
   "execution_count": 8,
   "metadata": {
    "colab": {},
    "colab_type": "code",
    "id": "XDvzxwA0UdOn",
    "outputId": "154b29e6-cd0d-48b9-e659-6e9a3f55e274"
   },
   "outputs": [
    {
     "name": "stdout",
     "output_type": "stream",
     "text": [
      "{\"@odata.context\": \"http://odata.wra.gov.tw/v4/$metadata#RealtimeWaterLevel\",\n",
      "\"@odata.count\": 100,\n",
      "\"value\": [{\"StationIdentifier\": \"2370H025\",\"RecordTime\": \"Nov 29, 2019 10:00:00 AM\",\"WaterLevel\": 261.63},{\"StationIdentifier\": \"2370H017\",\"RecordTime\": \"Nov 29, 2019 10:00:00 AM\",\"WaterLevel\": 58.54},{\"StationIdentifier\": \"1630H033\",\"RecordTime\": \"Nov 29, 2019 9:20:00 AM\",\"WaterLevel\": 0.01},{\"StationIdentifier\": \"1630H030\",\"RecordTime\": \"Nov 29, 2019 9:20:00 AM\",\"WaterLevel\": 1.55},{\"StationIdentifier\": \"1730H075\",\"RecordTime\": \"Nov 29, 2019 10:00:00 AM\",\"WaterLevel\": -999998},{\"StationIdentifier\": \"1630H025\",\"RecordTime\": \"Nov 29, 2019 10:00:00 AM\",\"WaterLevel\": 1.48},{\"StationIdentifier\": \"1730H066\",\"RecordTime\": \"Nov 29, 2019 10:00:00 AM\",\"WaterLevel\": 138.59},{\"StationIdentifier\": \"1630H018\",\"RecordTime\": \"Nov 29, 2019 10:00:00 AM\",\"WaterLevel\": 10.01},{\"StationIdentifier\": \"1730H061\",\"RecordTime\": \"Nov 29, 2019 10:00:00 AM\",\"WaterLevel\": 266.24},{\"StationIdentifier\": \"2200H029\",\"RecordTime\": \"Nov 29, 2019 10:00:00 AM\",\"WaterLevel\": 145.68},{\"StationIdentifier\": \"2560H024\",\"RecordTime\": \"Nov 29, 2019 10:00:00 AM\",\"WaterLevel\": 202.61},{\"StationIdentifier\": \"1590H016\",\"RecordTime\": \"Nov 29, 2019 10:00:00 AM\",\"WaterLevel\": 11.24},{\"StationIdentifier\": \"1730H057\",\"RecordTime\": \"Nov 29, 2019 10:00:00 AM\",\"WaterLevel\": 43.46},{\"StationIdentifier\": \"1850H004\",\"RecordTime\": \"Nov 29, 2019 10:00:00 AM\",\"WaterLevel\": 72.1},{\"StationIdentifier\": \"1670H004\",\"RecordTime\": \"Nov 29, 2019 10:00:00 AM\",\"WaterLevel\": 2.98},{\"StationIdentifier\": \"1650H012\",\"RecordTime\": \"Nov 29, 2019 10:00:00 AM\",\"WaterLevel\": 0.7},{\"StationIdentifier\": \"1660H009\",\"RecordTime\": \"Nov 29, 2019 10:00:00 AM\",\"WaterLevel\": 4.8},{\"StationIdentifier\": \"1580H022\",\"RecordTime\": \"Nov 29, 2019 10:00:00 AM\",\"WaterLevel\": 0.26},{\"StationIdentifier\": \"1660H012\",\"RecordTime\": \"Nov 29, 2019 10:00:00 AM\",\"WaterLevel\": 0.2},{\"StationIdentifier\": \"1740H010\",\"RecordTime\": \"Nov 29, 2019 10:00:00 AM\",\"WaterLevel\": 47.05},{\"StationIdentifier\": \"1650H008\",\"RecordTime\": \"Nov 29, 2019 10:00:00 AM\",\"WaterLevel\": 0.45},{\"StationIdentifier\": \"1650H013\",\"RecordTime\": \"Nov 29, 2019 10:00:00 AM\",\"WaterLevel\": 5.71},{\"StationIdentifier\": \"2370H019\",\"RecordTime\": \"Nov 29, 2019 10:00:00 AM\",\"WaterLevel\": 156.03},{\"StationIdentifier\": \"1430H037\",\"RecordTime\": \"Nov 29, 2019 10:00:00 AM\",\"WaterLevel\": 380.47},{\"StationIdentifier\": \"1650H015\",\"RecordTime\": \"Nov 29, 2019 10:00:00 AM\",\"WaterLevel\": 0.19},{\"StationIdentifier\": \"2370H004\",\"RecordTime\": \"Nov 29, 2019 10:00:00 AM\",\"WaterLevel\": 192.67},{\"StationIdentifier\": \"1740H008\",\"RecordTime\": \"Nov 29, 2019 10:00:00 AM\",\"WaterLevel\": 1.11},{\"StationIdentifier\": \"2200H007\",\"RecordTime\": \"Nov 29, 2019 10:00:00 AM\",\"WaterLevel\": 155.95},{\"StationIdentifier\": \"1540H032\",\"RecordTime\": \"Nov 29, 2019 10:00:00 AM\",\"WaterLevel\": 20.8},{\"StationIdentifier\": \"1630H036\",\"RecordTime\": \"Nov 29, 2019 10:00:00 AM\",\"WaterLevel\": 65.82},{\"StationIdentifier\": \"1430H030\",\"RecordTime\": \"Nov 29, 2019 10:00:00 AM\",\"WaterLevel\": 87.51},{\"StationIdentifier\": \"1650H010\",\"RecordTime\": \"Nov 29, 2019 10:00:00 AM\",\"WaterLevel\": 0.05},{\"StationIdentifier\": \"2200H026\",\"RecordTime\": \"Nov 29, 2019 10:00:00 AM\",\"WaterLevel\": 106.72},{\"StationIdentifier\": \"1730H081\",\"RecordTime\": \"Nov 29, 2019 10:00:00 AM\",\"WaterLevel\": -999998},{\"StationIdentifier\": \"1730H077\",\"RecordTime\": \"Nov 29, 2019 10:00:00 AM\",\"WaterLevel\": 740.47},{\"StationIdentifier\": \"1540H029\",\"RecordTime\": \"Nov 29, 2019 10:00:00 AM\",\"WaterLevel\": 12.78},{\"StationIdentifier\": \"1630H031\",\"RecordTime\": \"Nov 29, 2019 9:20:00 AM\",\"WaterLevel\": 0.21},{\"StationIdentifier\": \"1430H028\",\"RecordTime\": \"Nov 29, 2019 10:00:00 AM\",\"WaterLevel\": 23.56},{\"StationIdentifier\": \"1630H040\",\"RecordTime\": \"Nov 29, 2019 10:00:00 AM\",\"WaterLevel\": 1.77},{\"StationIdentifier\": \"2200H025\",\"RecordTime\": \"Nov 29, 2019 10:00:00 AM\",\"WaterLevel\": 206.78},{\"StationIdentifier\": \"1730H070\",\"RecordTime\": \"Nov 29, 2019 10:00:00 AM\",\"WaterLevel\": 226.21},{\"StationIdentifier\": \"1730H072\",\"RecordTime\": \"Nov 29, 2019 10:00:00 AM\",\"WaterLevel\": 248.86},{\"StationIdentifier\": \"1510H084\",\"RecordTime\": \"Nov 29, 2019 10:00:00 AM\",\"WaterLevel\": 145.01},{\"StationIdentifier\": \"1630H027\",\"RecordTime\": \"Nov 29, 2019 9:20:00 AM\",\"WaterLevel\": 26.19},{\"StationIdentifier\": \"1420H057\",\"RecordTime\": \"Nov 29, 2019 10:00:00 AM\",\"WaterLevel\": 639.37},{\"StationIdentifier\": \"1630H034\",\"RecordTime\": \"Nov 29, 2019 9:20:00 AM\",\"WaterLevel\": 278.35},{\"StationIdentifier\": \"2200H020\",\"RecordTime\": \"Nov 29, 2019 10:00:00 AM\",\"WaterLevel\": 318.16},{\"StationIdentifier\": \"1730H068\",\"RecordTime\": \"Nov 29, 2019 10:00:00 AM\",\"WaterLevel\": 10.14},{\"StationIdentifier\": \"1510H080\",\"RecordTime\": \"Nov 29, 2019 10:00:00 AM\",\"WaterLevel\": 1068.95},{\"StationIdentifier\": \"1580H021\",\"RecordTime\": \"Nov 29, 2019 10:00:00 AM\",\"WaterLevel\": 1.25},{\"StationIdentifier\": \"1630H023\",\"RecordTime\": \"Nov 29, 2019 10:00:00 AM\",\"WaterLevel\": -0.04},{\"StationIdentifier\": \"1730H043\",\"RecordTime\": \"Nov 29, 2019 10:00:00 AM\",\"WaterLevel\": 23.06},{\"StationIdentifier\": \"1510H082\",\"RecordTime\": \"Nov 29, 2019 10:00:00 AM\",\"WaterLevel\": 752.39},{\"StationIdentifier\": \"1630H005\",\"RecordTime\": \"Nov 29, 2019 10:00:00 AM\",\"WaterLevel\": 39.77},{\"StationIdentifier\": \"1510H079\",\"RecordTime\": \"Nov 29, 2019 9:50:00 AM\",\"WaterLevel\": 187.71},{\"StationIdentifier\": \"1580H017\",\"RecordTime\": \"Nov 29, 2019 10:00:00 AM\",\"WaterLevel\": 25.73},{\"StationIdentifier\": \"1680H005\",\"RecordTime\": \"Nov 29, 2019 10:00:00 AM\",\"WaterLevel\": 0.01},{\"StationIdentifier\": \"1430H054\",\"RecordTime\": \"Nov 29, 2019 10:00:00 AM\",\"WaterLevel\": 48.23},{\"StationIdentifier\": \"1400H018\",\"RecordTime\": \"Nov 29, 2019 10:00:00 AM\",\"WaterLevel\": 55.23},{\"StationIdentifier\": \"1510H058\",\"RecordTime\": \"Nov 29, 2019 9:50:00 AM\",\"WaterLevel\": 12.23},{\"StationIdentifier\": \"1590H013\",\"RecordTime\": \"Nov 29, 2019 10:00:00 AM\",\"WaterLevel\": 20.75},{\"StationIdentifier\": \"1510H071\",\"RecordTime\": \"Nov 29, 2019 9:50:00 AM\",\"WaterLevel\": 20.66},{\"StationIdentifier\": \"1580H001\",\"RecordTime\": \"Nov 29, 2019 10:00:00 AM\",\"WaterLevel\": 224.2},{\"StationIdentifier\": \"1550H012\",\"RecordTime\": \"Nov 29, 2019 10:00:00 AM\",\"WaterLevel\": 0.05},{\"StationIdentifier\": \"1430H051\",\"RecordTime\": \"Nov 29, 2019 10:00:00 AM\",\"WaterLevel\": 95.67},{\"StationIdentifier\": \"1400H009\",\"RecordTime\": \"Nov 29, 2019 10:00:00 AM\",\"WaterLevel\": 191.55},{\"StationIdentifier\": \"1510H050\",\"RecordTime\": \"Nov 29, 2019 9:50:00 AM\",\"WaterLevel\": 155.51},{\"StationIdentifier\": \"1580H018\",\"RecordTime\": \"Nov 29, 2019 10:00:00 AM\",\"WaterLevel\": 21.22},{\"StationIdentifier\": \"1430H058\",\"RecordTime\": \"Nov 29, 2019 10:00:00 AM\",\"WaterLevel\": 83.17},{\"StationIdentifier\": \"1550H014\",\"RecordTime\": \"Nov 29, 2019 10:00:00 AM\",\"WaterLevel\": 26.77},{\"StationIdentifier\": \"1540H030\",\"RecordTime\": \"Nov 29, 2019 10:00:00 AM\",\"WaterLevel\": 27.2},{\"StationIdentifier\": \"1430H047\",\"RecordTime\": \"Nov 29, 2019 10:00:00 AM\",\"WaterLevel\": 72.34},{\"StationIdentifier\": \"1140H096\",\"RecordTime\": \"Nov 29, 2019 10:00:00 AM\",\"WaterLevel\": 170.83},{\"StationIdentifier\": \"1430H061\",\"RecordTime\": \"Nov 29, 2019 10:00:00 AM\",\"WaterLevel\": 24.97},{\"StationIdentifier\": \"1580H008\",\"RecordTime\": \"Nov 29, 2019 10:00:00 AM\",\"WaterLevel\": 19.79},{\"StationIdentifier\": \"1340H014\",\"RecordTime\": \"Nov 29, 2019 10:00:00 AM\",\"WaterLevel\": 0.27},{\"StationIdentifier\": \"1540H039\",\"RecordTime\": \"Nov 29, 2019 10:00:00 AM\",\"WaterLevel\": 39},{\"StationIdentifier\": \"1540H009\",\"RecordTime\": \"Nov 29, 2019 10:00:00 AM\",\"WaterLevel\": -0.18},{\"StationIdentifier\": \"1420H058\",\"RecordTime\": \"Nov 29, 2019 10:00:00 AM\",\"WaterLevel\": 440.49},{\"StationIdentifier\": \"1540H037\",\"RecordTime\": \"Nov 29, 2019 10:00:00 AM\",\"WaterLevel\": 32.1},{\"StationIdentifier\": \"1430H056\",\"RecordTime\": \"Nov 29, 2019 10:00:00 AM\",\"WaterLevel\": 79.83},{\"StationIdentifier\": \"1420H055\",\"RecordTime\": \"Nov 29, 2019 10:00:00 AM\",\"WaterLevel\": 318.94},{\"StationIdentifier\": \"1520H008\",\"RecordTime\": \"Nov 29, 2019 10:00:00 AM\",\"WaterLevel\": 78.21},{\"StationIdentifier\": \"1140H068\",\"RecordTime\": \"Nov 29, 2019 9:50:00 AM\",\"WaterLevel\": 49.09},{\"StationIdentifier\": \"1340H011\",\"RecordTime\": \"Nov 29, 2019 10:00:00 AM\",\"WaterLevel\": 7.31},{\"StationIdentifier\": \"1550H017\",\"RecordTime\": \"Nov 29, 2019 10:00:00 AM\",\"WaterLevel\": 15.7},{\"StationIdentifier\": \"1540H033\",\"RecordTime\": \"Nov 29, 2019 10:00:00 AM\",\"WaterLevel\": 23.29},{\"StationIdentifier\": \"1430H045\",\"RecordTime\": \"Nov 29, 2019 10:00:00 AM\",\"WaterLevel\": 91.72},{\"StationIdentifier\": \"1140H110\",\"RecordTime\": \"Nov 29, 2019 9:50:00 AM\",\"WaterLevel\": 42.87},{\"StationIdentifier\": \"1510H086\",\"RecordTime\": \"Nov 29, 2019 10:00:00 AM\",\"WaterLevel\": 318.02},{\"StationIdentifier\": \"2560H023\",\"RecordTime\": \"Nov 29, 2019 10:00:00 AM\",\"WaterLevel\": 13.09},{\"StationIdentifier\": \"1320H001\",\"RecordTime\": \"Nov 29, 2019 10:00:00 AM\",\"WaterLevel\": 2.61},{\"StationIdentifier\": \"1420H054\",\"RecordTime\": \"Nov 29, 2019 10:00:00 AM\",\"WaterLevel\": 704.21},{\"StationIdentifier\": \"1350H031\",\"RecordTime\": \"Nov 29, 2019 10:00:00 AM\",\"WaterLevel\": -0.13},{\"StationIdentifier\": \"1430H040\",\"RecordTime\": \"Nov 29, 2019 10:00:00 AM\",\"WaterLevel\": 19.45},{\"StationIdentifier\": \"1140H066\",\"RecordTime\": \"Nov 29, 2019 9:50:00 AM\",\"WaterLevel\": 1.98},{\"StationIdentifier\": \"1510H075\",\"RecordTime\": \"Nov 29, 2019 9:50:00 AM\",\"WaterLevel\": 346.51},{\"StationIdentifier\": \"2420H036\",\"RecordTime\": \"Nov 29, 2019 10:00:00 AM\",\"WaterLevel\": 164.36},{\"StationIdentifier\": \"1300H023\",\"RecordTime\": \"Nov 29, 2019 10:00:00 AM\",\"WaterLevel\": 52.21},{\"StationIdentifier\": \"1420H049\",\"RecordTime\": \"Nov 29, 2019 10:00:00 AM\",\"WaterLevel\": 54.18}],\r\n",
      "\"@odata.nextLink\": \"http://odata.wra.gov.tw/v4/RealtimeWaterLevel?$skip=100&$top=100\"}\n"
     ]
    }
   ],
   "source": [
    "import requests\n",
    "r = requests.get('http://odata.wra.gov.tw/v4/RealtimeWaterLevel')\n",
    "print(r.text)"
   ]
  },
  {
   "cell_type": "code",
   "execution_count": 0,
   "metadata": {
    "colab": {},
    "colab_type": "code",
    "id": "RPISC-Y4UdOq"
   },
   "outputs": [],
   "source": []
  },
  {
   "cell_type": "code",
   "execution_count": 0,
   "metadata": {
    "colab": {},
    "colab_type": "code",
    "id": "H5EyeQRIUdOr"
   },
   "outputs": [],
   "source": []
  }
 ],
 "metadata": {
  "colab": {
   "name": "homework.ipynb",
   "provenance": []
  },
  "kernelspec": {
   "display_name": "Python 3",
   "language": "python",
   "name": "python3"
  },
  "language_info": {
   "codemirror_mode": {
    "name": "ipython",
    "version": 3
   },
   "file_extension": ".py",
   "mimetype": "text/x-python",
   "name": "python",
   "nbconvert_exporter": "python",
   "pygments_lexer": "ipython3",
   "version": "3.7.4"
  }
 },
 "nbformat": 4,
 "nbformat_minor": 1
}
